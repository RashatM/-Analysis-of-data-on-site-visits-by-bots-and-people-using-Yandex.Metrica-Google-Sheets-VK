{
 "cells": [
  {
   "cell_type": "markdown",
   "id": "cc91ec8e",
   "metadata": {},
   "source": [
    "# Шаг 1\n",
    "\n",
    " * Для начала, давайте посмотрим на распределение посещений сайта по дням. \n",
    " * Постройте график с распределением количества посещений от ботов и обычных пользователей сайта Яндекс.Метрика с 2021-07-14 и 2021-07-16.\n",
    " * Данные для построения графика хранятся здесь: https://api-metrika.yandex.net/stat/v1/data?\n",
    "\n"
   ]
  },
  {
   "cell_type": "code",
   "execution_count": 1,
   "id": "96176385",
   "metadata": {},
   "outputs": [],
   "source": [
    "import pandas as pd\n",
    "import requests\n",
    "import seaborn as sns\n",
    "from urllib.parse import urlencode\n",
    "import matplotlib.pyplot as plt\n",
    "%matplotlib inline\n",
    "import gspread\n",
    "from df2gspread import df2gspread as d2g\n",
    "from oauth2client.service_account import ServiceAccountCredentials\n",
    "import json\n",
    "import vk_api\n",
    "import random\n",
    "from io import BytesIO"
   ]
  },
  {
   "cell_type": "code",
   "execution_count": 2,
   "id": "74839ecf",
   "metadata": {},
   "outputs": [],
   "source": [
    "url = 'https://api-metrika.yandex.net/stat/v1/data?'\n",
    "dates = ['2021-07-14','2021-07-15','2021-07-16']\n",
    "\n",
    "df = pd.DataFrame()\n",
    "\n",
    "for date in dates:   \n",
    "    \n",
    "    # Выставим необходимые параметры \n",
    "    params = {\n",
    "        'metrics': 'ym:s:visits', \n",
    "        'dimensions': ['ym:s:date', 'ym:s:isRobot'],\n",
    "        'filters': f\"ym:s:date=='{date}'\",\n",
    "        'id': 44147844\n",
    "    }\n",
    "    \n",
    "    # Преобразуем в ссылку\n",
    "    visits = urlencode(params, doseq=True)  \n",
    "    \n",
    "    # Получим полный адрес\n",
    "    visits_url = url + visits \n",
    "    \n",
    "    # Сделаем запрос к API Яндекс.Метрика\n",
    "    response = requests.get(visits_url) \n",
    "    \n",
    "    # Перевем полученный респонс в JSON формат\n",
    "    json_data = response.json()\n",
    "    \n",
    "    # Распарсим данные с Яндекс.Метрика\n",
    "    for record in json_data['data']:\n",
    "        \n",
    "        temp_data = record['dimensions']\n",
    "\n",
    "        visits = record['metrics'][0]\n",
    "        date = temp_data[0]['name']\n",
    "        robot_type = temp_data[1]['name']\n",
    "        \n",
    "        # Создадим строку и добавим в датафрейм\n",
    "        row = [[date, robot_type, visits]]\n",
    "        df = df.append(row)\n",
    "        "
   ]
  },
  {
   "cell_type": "code",
   "execution_count": 3,
   "id": "d4dfceb4",
   "metadata": {},
   "outputs": [],
   "source": [
    "# Изменим названия колонок\n",
    "df.columns = ['date', 'type', 'visits']"
   ]
  },
  {
   "cell_type": "code",
   "execution_count": 4,
   "id": "04f45c8e",
   "metadata": {},
   "outputs": [
    {
     "data": {
      "text/html": [
       "<div>\n",
       "<style scoped>\n",
       "    .dataframe tbody tr th:only-of-type {\n",
       "        vertical-align: middle;\n",
       "    }\n",
       "\n",
       "    .dataframe tbody tr th {\n",
       "        vertical-align: top;\n",
       "    }\n",
       "\n",
       "    .dataframe thead th {\n",
       "        text-align: right;\n",
       "    }\n",
       "</style>\n",
       "<table border=\"1\" class=\"dataframe\">\n",
       "  <thead>\n",
       "    <tr style=\"text-align: right;\">\n",
       "      <th></th>\n",
       "      <th>date</th>\n",
       "      <th>type</th>\n",
       "      <th>visits</th>\n",
       "    </tr>\n",
       "  </thead>\n",
       "  <tbody>\n",
       "    <tr>\n",
       "      <th>0</th>\n",
       "      <td>2021-07-14</td>\n",
       "      <td>People</td>\n",
       "      <td>334.0</td>\n",
       "    </tr>\n",
       "    <tr>\n",
       "      <th>0</th>\n",
       "      <td>2021-07-14</td>\n",
       "      <td>Robots</td>\n",
       "      <td>177.0</td>\n",
       "    </tr>\n",
       "    <tr>\n",
       "      <th>0</th>\n",
       "      <td>2021-07-15</td>\n",
       "      <td>People</td>\n",
       "      <td>402.0</td>\n",
       "    </tr>\n",
       "    <tr>\n",
       "      <th>0</th>\n",
       "      <td>2021-07-15</td>\n",
       "      <td>Robots</td>\n",
       "      <td>158.0</td>\n",
       "    </tr>\n",
       "    <tr>\n",
       "      <th>0</th>\n",
       "      <td>2021-07-16</td>\n",
       "      <td>People</td>\n",
       "      <td>294.0</td>\n",
       "    </tr>\n",
       "    <tr>\n",
       "      <th>0</th>\n",
       "      <td>2021-07-16</td>\n",
       "      <td>Robots</td>\n",
       "      <td>132.0</td>\n",
       "    </tr>\n",
       "  </tbody>\n",
       "</table>\n",
       "</div>"
      ],
      "text/plain": [
       "         date    type  visits\n",
       "0  2021-07-14  People   334.0\n",
       "0  2021-07-14  Robots   177.0\n",
       "0  2021-07-15  People   402.0\n",
       "0  2021-07-15  Robots   158.0\n",
       "0  2021-07-16  People   294.0\n",
       "0  2021-07-16  Robots   132.0"
      ]
     },
     "execution_count": 4,
     "metadata": {},
     "output_type": "execute_result"
    }
   ],
   "source": [
    "df"
   ]
  },
  {
   "cell_type": "code",
   "execution_count": 5,
   "id": "05cfc5af",
   "metadata": {
    "scrolled": true
   },
   "outputs": [
    {
     "data": {
      "text/plain": [
       "<AxesSubplot:xlabel='date', ylabel='visits'>"
      ]
     },
     "execution_count": 5,
     "metadata": {},
     "output_type": "execute_result"
    },
    {
     "data": {
      "image/png": "[encoded data removed]",
      "text/plain": [
       "<Figure size 864x288 with 1 Axes>"
      ]
     },
     "metadata": {},
     "output_type": "display_data"
    }
   ],
   "source": [
    "# Построим график с распределением количества посещений от ботов и обычных пользователей\n",
    "sns.set(style = 'whitegrid',\n",
    "        rc={'figure.figsize':(12,4)})\n",
    "\n",
    "sns.barplot(x='date',\n",
    "            y='visits',\n",
    "            hue='type',\n",
    "            data= df)"
   ]
  },
  {
   "cell_type": "markdown",
   "id": "9a087f72",
   "metadata": {},
   "source": [
    "# Шаг 2\n",
    "\n",
    " * Определите процент посещений сайта Яндекс.Метрики с бразузера Google  за 2021-07-13\n",
    " * Ответ округлите до целого.\n"
   ]
  },
  {
   "cell_type": "code",
   "execution_count": 6,
   "id": "35321037",
   "metadata": {},
   "outputs": [],
   "source": [
    "# Можем переиспользовать полученный ранее код\n",
    "df2 = pd.DataFrame()\n",
    "\n",
    "# Добавим к параметрам тип бразуера\n",
    "params = {\n",
    "    'metrics': 'ym:s:visits', \n",
    "    'dimensions': ['ym:s:date', 'ym:s:isRobot', 'ym:s:browser'],\n",
    "    'filters': f\"ym:s:date=='2021-07-13'\",\n",
    "    'id': 44147844\n",
    "}\n",
    "    \n",
    "visits = urlencode(params, doseq=True)     \n",
    "visits_url = url + visits    \n",
    "response = requests.get(visits_url)     \n",
    "json_data = response.json()\n",
    "    \n",
    "for record in json_data['data']:    \n",
    "    temp_data = record['dimensions']\n",
    "    visits = record['metrics'][0]\n",
    "    date = temp_data[0]['name']\n",
    "    robot_type = temp_data[1]['name']\n",
    "    # получим данные по тип браузера\n",
    "    user_type = temp_data[2]['name']\n",
    "    \n",
    "    # добавим его к датафрейму\n",
    "    row = [[date, robot_type, user_type, visits]]\n",
    "    df2 = df2.append(row)"
   ]
  },
  {
   "cell_type": "code",
   "execution_count": 7,
   "id": "5a65b4ea",
   "metadata": {},
   "outputs": [],
   "source": [
    "# Переименуем колонки нового датафрейма\n",
    "df2.columns = ['date', 'robot_type', 'user_type', 'visits']"
   ]
  },
  {
   "cell_type": "code",
   "execution_count": 8,
   "id": "ba245042",
   "metadata": {},
   "outputs": [
    {
     "data": {
      "text/html": [
       "<div>\n",
       "<style scoped>\n",
       "    .dataframe tbody tr th:only-of-type {\n",
       "        vertical-align: middle;\n",
       "    }\n",
       "\n",
       "    .dataframe tbody tr th {\n",
       "        vertical-align: top;\n",
       "    }\n",
       "\n",
       "    .dataframe thead th {\n",
       "        text-align: right;\n",
       "    }\n",
       "</style>\n",
       "<table border=\"1\" class=\"dataframe\">\n",
       "  <thead>\n",
       "    <tr style=\"text-align: right;\">\n",
       "      <th></th>\n",
       "      <th>date</th>\n",
       "      <th>type</th>\n",
       "      <th>visits</th>\n",
       "    </tr>\n",
       "  </thead>\n",
       "  <tbody>\n",
       "    <tr>\n",
       "      <th>0</th>\n",
       "      <td>2021-07-14</td>\n",
       "      <td>People</td>\n",
       "      <td>334.0</td>\n",
       "    </tr>\n",
       "    <tr>\n",
       "      <th>0</th>\n",
       "      <td>2021-07-14</td>\n",
       "      <td>Robots</td>\n",
       "      <td>177.0</td>\n",
       "    </tr>\n",
       "    <tr>\n",
       "      <th>0</th>\n",
       "      <td>2021-07-15</td>\n",
       "      <td>People</td>\n",
       "      <td>402.0</td>\n",
       "    </tr>\n",
       "    <tr>\n",
       "      <th>0</th>\n",
       "      <td>2021-07-15</td>\n",
       "      <td>Robots</td>\n",
       "      <td>158.0</td>\n",
       "    </tr>\n",
       "    <tr>\n",
       "      <th>0</th>\n",
       "      <td>2021-07-16</td>\n",
       "      <td>People</td>\n",
       "      <td>294.0</td>\n",
       "    </tr>\n",
       "  </tbody>\n",
       "</table>\n",
       "</div>"
      ],
      "text/plain": [
       "         date    type  visits\n",
       "0  2021-07-14  People   334.0\n",
       "0  2021-07-14  Robots   177.0\n",
       "0  2021-07-15  People   402.0\n",
       "0  2021-07-15  Robots   158.0\n",
       "0  2021-07-16  People   294.0"
      ]
     },
     "execution_count": 8,
     "metadata": {},
     "output_type": "execute_result"
    }
   ],
   "source": [
    "df.head()"
   ]
  },
  {
   "cell_type": "code",
   "execution_count": 9,
   "id": "01314c16",
   "metadata": {},
   "outputs": [],
   "source": [
    "# Сделаем группировку по типу браузера\n",
    "visits_vs_browser = df2.groupby('user_type') \\\n",
    "                       .agg({'visits': 'sum'})"
   ]
  },
  {
   "cell_type": "code",
   "execution_count": 10,
   "id": "28e77515",
   "metadata": {},
   "outputs": [
    {
     "data": {
      "text/plain": [
       "visits    62.0\n",
       "dtype: float64"
      ]
     },
     "execution_count": 10,
     "metadata": {},
     "output_type": "execute_result"
    }
   ],
   "source": [
    "# Получим процент посещений сайта Яндекс.Метрики с бразузера Google за 2021-07-14\n",
    "# Ответ\n",
    "visits_vs_browser.loc['Google Chrome'] \\\n",
    "    .div(visits_vs_browser.sum()) \\\n",
    "    .mul(100) \\\n",
    "    .round()"
   ]
  },
  {
   "cell_type": "markdown",
   "id": "49c92ca0",
   "metadata": {},
   "source": [
    "# Шаг 3\n",
    "\n",
    " * Давайте выясним, с какого браузера приходит БОЛЬШЕ всего ботов. \n",
    " * Посмотрите на данные и определите, у какого браузера самая БОЛЬШАЯ доля посещений сайта ботами от общего числа посещений?\n",
    " * В качестве ответа укажите название браузера.\n"
   ]
  },
  {
   "cell_type": "code",
   "execution_count": 11,
   "id": "dbde9a33",
   "metadata": {},
   "outputs": [],
   "source": [
    "# Уберем индекс\n",
    "visits_vs_browser = visits_vs_browser.reset_index()"
   ]
  },
  {
   "cell_type": "code",
   "execution_count": 12,
   "id": "64209927",
   "metadata": {},
   "outputs": [],
   "source": [
    "# Соединим два датафрейма\n",
    "full_df = df2.merge(visits_vs_browser,\n",
    "                    on = 'user_type',\n",
    "                    suffixes = ('_type','_all'))"
   ]
  },
  {
   "cell_type": "code",
   "execution_count": 13,
   "id": "fe29ad94",
   "metadata": {},
   "outputs": [
    {
     "data": {
      "text/html": [
       "<div>\n",
       "<style scoped>\n",
       "    .dataframe tbody tr th:only-of-type {\n",
       "        vertical-align: middle;\n",
       "    }\n",
       "\n",
       "    .dataframe tbody tr th {\n",
       "        vertical-align: top;\n",
       "    }\n",
       "\n",
       "    .dataframe thead th {\n",
       "        text-align: right;\n",
       "    }\n",
       "</style>\n",
       "<table border=\"1\" class=\"dataframe\">\n",
       "  <thead>\n",
       "    <tr style=\"text-align: right;\">\n",
       "      <th></th>\n",
       "      <th>date</th>\n",
       "      <th>robot_type</th>\n",
       "      <th>user_type</th>\n",
       "      <th>visits_type</th>\n",
       "      <th>visits_all</th>\n",
       "      <th>ratio</th>\n",
       "    </tr>\n",
       "  </thead>\n",
       "  <tbody>\n",
       "    <tr>\n",
       "      <th>0</th>\n",
       "      <td>2021-07-13</td>\n",
       "      <td>People</td>\n",
       "      <td>Google Chrome</td>\n",
       "      <td>211.0</td>\n",
       "      <td>347.0</td>\n",
       "      <td>0.608069</td>\n",
       "    </tr>\n",
       "    <tr>\n",
       "      <th>1</th>\n",
       "      <td>2021-07-13</td>\n",
       "      <td>Robots</td>\n",
       "      <td>Google Chrome</td>\n",
       "      <td>136.0</td>\n",
       "      <td>347.0</td>\n",
       "      <td>0.391931</td>\n",
       "    </tr>\n",
       "    <tr>\n",
       "      <th>2</th>\n",
       "      <td>2021-07-13</td>\n",
       "      <td>People</td>\n",
       "      <td>Yandex Browser</td>\n",
       "      <td>43.0</td>\n",
       "      <td>50.0</td>\n",
       "      <td>0.860000</td>\n",
       "    </tr>\n",
       "    <tr>\n",
       "      <th>3</th>\n",
       "      <td>2021-07-13</td>\n",
       "      <td>Robots</td>\n",
       "      <td>Yandex Browser</td>\n",
       "      <td>7.0</td>\n",
       "      <td>50.0</td>\n",
       "      <td>0.140000</td>\n",
       "    </tr>\n",
       "    <tr>\n",
       "      <th>4</th>\n",
       "      <td>2021-07-13</td>\n",
       "      <td>People</td>\n",
       "      <td>Chrome Mobile</td>\n",
       "      <td>39.0</td>\n",
       "      <td>39.0</td>\n",
       "      <td>1.000000</td>\n",
       "    </tr>\n",
       "  </tbody>\n",
       "</table>\n",
       "</div>"
      ],
      "text/plain": [
       "         date robot_type       user_type  visits_type  visits_all     ratio\n",
       "0  2021-07-13     People   Google Chrome        211.0       347.0  0.608069\n",
       "1  2021-07-13     Robots   Google Chrome        136.0       347.0  0.391931\n",
       "2  2021-07-13     People  Yandex Browser         43.0        50.0  0.860000\n",
       "3  2021-07-13     Robots  Yandex Browser          7.0        50.0  0.140000\n",
       "4  2021-07-13     People   Chrome Mobile         39.0        39.0  1.000000"
      ]
     },
     "execution_count": 13,
     "metadata": {},
     "output_type": "execute_result"
    }
   ],
   "source": [
    "# Создадим столбец с отношением количества посещений к общему количеству посещений по типу браузера\n",
    "full_df['ratio'] = full_df.visits_type / full_df.visits_all\n",
    "full_df.head()"
   ]
  },
  {
   "cell_type": "code",
   "execution_count": 14,
   "id": "205ca1ae",
   "metadata": {},
   "outputs": [
    {
     "data": {
      "text/plain": [
       "'Firefox'"
      ]
     },
     "execution_count": 14,
     "metadata": {},
     "output_type": "execute_result"
    }
   ],
   "source": [
    "# Найдем  браузера с самой большой долей посещений сайта ботами от общего числа посещений\n",
    "# Ответ\n",
    "full_df.query('robot_type == \"Robots\"') \\\n",
    "    .nlargest(1, columns ='ratio') \\\n",
    "    .user_type \\\n",
    "    .iloc[0]"
   ]
  },
  {
   "cell_type": "markdown",
   "id": "26d00520",
   "metadata": {},
   "source": [
    "# Шаг 4 \n",
    "\n",
    " * Съагрегируйте данные по дню, типу пользователя, браузеру, создайте колонку с метрикой доли заходов на сайт для каждого из этих разрезов.\n",
    " * В ответе укажите процент открытий сайта настоящими пользователями Safari (не ботами) с точностью до 1 знака после точки.\n",
    "\n",
    "\n"
   ]
  },
  {
   "cell_type": "code",
   "execution_count": 15,
   "id": "a3efb8fe",
   "metadata": {},
   "outputs": [
    {
     "data": {
      "text/plain": [
       "0"
      ]
     },
     "execution_count": 15,
     "metadata": {},
     "output_type": "execute_result"
    }
   ],
   "source": [
    "# Прежде, чем делать группировку, проверим, не являются ли строки по данным колонкам итак уникальными\n",
    "df2.duplicated(['date', 'robot_type' , 'user_type']).sum()  "
   ]
  },
  {
   "cell_type": "code",
   "execution_count": 16,
   "id": "1a961d49",
   "metadata": {},
   "outputs": [],
   "source": [
    "# Таким образом, в группировке нет смысла, поэтому создадим колонку с метрикой доли заходов на сайт для каждого из этих разрезов\n",
    "df2['share_visits'] =  df2.visits / df2.visits.sum() * 100"
   ]
  },
  {
   "cell_type": "code",
   "execution_count": 17,
   "id": "b13c6a01",
   "metadata": {},
   "outputs": [
    {
     "data": {
      "text/plain": [
       "2.8"
      ]
     },
     "execution_count": 17,
     "metadata": {},
     "output_type": "execute_result"
    }
   ],
   "source": [
    "# Процент открытий сайта настоящими пользователями Safari (не ботами) \n",
    "# Ответ\n",
    "df2.query('robot_type==\"People\" and user_type==\"Safari\"') \\\n",
    "    .share_visits \\\n",
    "    .iloc[0] \\\n",
    "    .round(1)"
   ]
  },
  {
   "cell_type": "markdown",
   "id": "fcae5724",
   "metadata": {},
   "source": [
    "# Шаг 5\n",
    "\n",
    " * При помощи библиотеки gspread отправьте данные из предыдущего шага в Google SpreadSheet. \n",
    " * Далее отправьте ссылку на получившийся файл в Google SpreadSheet (не забудьте открыть доступ по ссылке, это можно сделать вручную, когда данные уже зальются в таблицу) при помощи vk api себе в личку ВКонтакте. \n",
    "\n"
   ]
  },
  {
   "cell_type": "code",
   "execution_count": 18,
   "id": "27ba0a5e",
   "metadata": {},
   "outputs": [],
   "source": [
    "scope = ['https://spreadsheets.google.com/feeds', \n",
    "          'https://www.googleapis.com/auth/drive']\n",
    "\n",
    "my_mail = 'gilnaramusina12@gmail.com'\n",
    "CREDENTIALS_FILE = 'myapp-315506-7173c928572f.json' \n",
    "\n",
    "# Авторизация\n",
    "credentials = ServiceAccountCredentials.from_json_keyfile_name(CREDENTIALS_FILE, scope)\n",
    "gs = gspread.authorize(credentials)"
   ]
  },
  {
   "cell_type": "code",
   "execution_count": 19,
   "id": "d649aef7",
   "metadata": {},
   "outputs": [],
   "source": [
    "# Уберем индексы для корректной работы d2g, так как она выдает ошибка, когда индексы не уникальны, как в нашем случае\n",
    "df2.reset_index(drop = True,\n",
    "                inplace = True)"
   ]
  },
  {
   "cell_type": "code",
   "execution_count": 20,
   "id": "755f8647",
   "metadata": {
    "scrolled": true
   },
   "outputs": [
    {
     "data": {
      "text/plain": [
       "<Worksheet 'list1' id:1605163802>"
      ]
     },
     "execution_count": 20,
     "metadata": {},
     "output_type": "execute_result"
    }
   ],
   "source": [
    "# Создадим файл на Google Диск \n",
    "table_name = 'test'\n",
    "gs.create(table_name)\n",
    "table = gs.open(table_name)\n",
    "\n",
    "# Зашарим таблицу\n",
    "table.share(my_mail, perm_type = 'user', role = 'writer')\n",
    "\n",
    "# Загрузим данные на Google Диск\n",
    "d2g.upload(df2,\n",
    "           gfile = table_name,\n",
    "           wks_name='list1',\n",
    "           credentials=credentials,\n",
    "           row_names = True)"
   ]
  },
  {
   "cell_type": "markdown",
   "id": "57ebdf17",
   "metadata": {},
   "source": [
    "# Шаг 6\n",
    "\n",
    "При помощи vk api себе в личку ВКонтакте ссылку на полученный файл, а также сообщение с вложением, где файл будет в формате Excel "
   ]
  },
  {
   "cell_type": "code",
   "execution_count": 21,
   "id": "9e4ff9af",
   "metadata": {},
   "outputs": [],
   "source": [
    "# Получем токен вк бота\n",
    "with open('vk_token.json') as src:\n",
    "    credentials = json.load(src)\n",
    "                            \n",
    "token = credentials['token']                           "
   ]
  },
  {
   "cell_type": "code",
   "execution_count": 22,
   "id": "4b7be67a",
   "metadata": {},
   "outputs": [],
   "source": [
    "# Создаем сессию VK\n",
    "my_id = 144925167\n",
    "vk_session = vk_api.VkApi(token=token)\n",
    "vk = vk_session.get_api()"
   ]
  },
  {
   "cell_type": "code",
   "execution_count": 23,
   "id": "b7729914",
   "metadata": {},
   "outputs": [],
   "source": [
    "# Ссылка на документ Google Диск\n",
    "link = 'https://docs.google.com/spreadsheets/d/1RJl_QNTUPFgiODfrvjsmUuC84KDidE6Sjr4YmPBWd30/edit#gid=0'"
   ]
  },
  {
   "cell_type": "code",
   "execution_count": 24,
   "id": "7b1295d9",
   "metadata": {},
   "outputs": [
    {
     "data": {
      "text/plain": [
       "16"
      ]
     },
     "execution_count": 24,
     "metadata": {},
     "output_type": "execute_result"
    }
   ],
   "source": [
    "# Отправляем ссылку себе в VK\n",
    "vk.messages.send(user_id= my_id,\n",
    "                 message=link,\n",
    "                 random_id=random.randint(1,2**31))"
   ]
  },
  {
   "cell_type": "code",
   "execution_count": 25,
   "id": "a2eb040d",
   "metadata": {},
   "outputs": [],
   "source": [
    "# Теперь отправим сообщение с вложением\n",
    "# Укажем путь к файлу и название, которое будет отображаться в VK\n",
    "path_to_file = 'C:/Users/rasha/Desktop/test.xlsx'\n",
    "file_name = 'test_vk.xlsx'\n",
    "\n",
    "# Загрузим файл на сервер VK\n",
    "upload_url = vk.docs.getMessagesUploadServer(peer_id=my_id)[\"upload_url\"]\n",
    "\n",
    "with open(path_to_file, 'rb') as f:\n",
    "    file = {'file': (file_name, f)}\n",
    "    \n",
    "    response = requests.post(upload_url, files=file)"
   ]
  },
  {
   "cell_type": "code",
   "execution_count": 26,
   "id": "f83cce70",
   "metadata": {},
   "outputs": [],
   "source": [
    "# Сохраняем файл в VK \n",
    "json_data = json.loads(response.text)\n",
    "saved_file = vk.docs.save(file=json_data['file'], title=file_name)\n",
    "# Передаем полученные атрибуты с предыдущего шага в строку вложения\n",
    "attachment = 'doc{}_{}'.format(saved_file['doc']['owner_id'],saved_file['doc']['id'])"
   ]
  },
  {
   "cell_type": "code",
   "execution_count": 27,
   "id": "725fb4f8",
   "metadata": {},
   "outputs": [
    {
     "data": {
      "text/plain": [
       "17"
      ]
     },
     "execution_count": 27,
     "metadata": {},
     "output_type": "execute_result"
    }
   ],
   "source": [
    "# Отправляем письмо с вложением\n",
    "vk.messages.send(user_id= my_id,\n",
    "                 random_id=random.randint(1,2**31),\n",
    "                 message='Привет! Лови файлик',\n",
    "                 attachment=attachment\n",
    "                 )"
   ]
  },
  {
   "cell_type": "markdown",
   "id": "fbbd2a5f",
   "metadata": {},
   "source": [
    "# Шаг 7\n",
    "\n",
    " * Другой аналитик уже агрегировал часть данных из метрики, и вам нужно объединить усилия, чтобы получить финальный отчет.  Прочитайте дополнительные данные из Google SpreadSheet, объедините вашу таблицу из файла - step_4_lesson_7.csv с таблицей другого аналитика и посчитайте количество визитов на человека (отношение visits к users) в разрезе по браузеру и значениям Robots/People.\n",
    " * В ответе укажите, сколько визитов на уникального пользователя совершается ботами с браузера Google Chrome (округлите до целого)\n"
   ]
  },
  {
   "cell_type": "code",
   "execution_count": 28,
   "id": "c3edc562",
   "metadata": {},
   "outputs": [],
   "source": [
    "# Прочитаем данные\n",
    "r = requests.get('https://docs.google.com/spreadsheets/d/e/2PACX-1vQWMsvBTVio9C7IOOxfFO9C15BRHyME-_ENHqBodDOjuiHwk9fCuF5hUVmDs497PZOqPYK3exdSikOK/pub?gid=1006633900&single=true&output=csv')\n",
    "data = r.content\n",
    "\n",
    "my_df = pd.read_csv('step_4_lesson_7.csv')\n",
    "# Используем BytesIO для того, чтобы распарсить из байткода\n",
    "other_df = pd.read_csv(BytesIO(data))"
   ]
  },
  {
   "cell_type": "code",
   "execution_count": 29,
   "id": "30454c9f",
   "metadata": {},
   "outputs": [
    {
     "data": {
      "text/html": [
       "<div>\n",
       "<style scoped>\n",
       "    .dataframe tbody tr th:only-of-type {\n",
       "        vertical-align: middle;\n",
       "    }\n",
       "\n",
       "    .dataframe tbody tr th {\n",
       "        vertical-align: top;\n",
       "    }\n",
       "\n",
       "    .dataframe thead th {\n",
       "        text-align: right;\n",
       "    }\n",
       "</style>\n",
       "<table border=\"1\" class=\"dataframe\">\n",
       "  <thead>\n",
       "    <tr style=\"text-align: right;\">\n",
       "      <th></th>\n",
       "      <th>date</th>\n",
       "      <th>browser</th>\n",
       "      <th>user_type</th>\n",
       "      <th>users</th>\n",
       "    </tr>\n",
       "  </thead>\n",
       "  <tbody>\n",
       "    <tr>\n",
       "      <th>0</th>\n",
       "      <td>2020-06-15</td>\n",
       "      <td>Google Chrome</td>\n",
       "      <td>People</td>\n",
       "      <td>240.0</td>\n",
       "    </tr>\n",
       "    <tr>\n",
       "      <th>1</th>\n",
       "      <td>2020-06-15</td>\n",
       "      <td>Google Chrome</td>\n",
       "      <td>Robots</td>\n",
       "      <td>104.0</td>\n",
       "    </tr>\n",
       "    <tr>\n",
       "      <th>2</th>\n",
       "      <td>2020-06-15</td>\n",
       "      <td>Yandex Browser</td>\n",
       "      <td>People</td>\n",
       "      <td>44.0</td>\n",
       "    </tr>\n",
       "  </tbody>\n",
       "</table>\n",
       "</div>"
      ],
      "text/plain": [
       "         date         browser user_type  users\n",
       "0  2020-06-15   Google Chrome    People  240.0\n",
       "1  2020-06-15   Google Chrome    Robots  104.0\n",
       "2  2020-06-15  Yandex Browser    People   44.0"
      ]
     },
     "execution_count": 29,
     "metadata": {},
     "output_type": "execute_result"
    }
   ],
   "source": [
    "# Посмотрим на данные\n",
    "other_df.head(3)"
   ]
  },
  {
   "cell_type": "code",
   "execution_count": 30,
   "id": "a36f8411",
   "metadata": {},
   "outputs": [
    {
     "data": {
      "text/html": [
       "<div>\n",
       "<style scoped>\n",
       "    .dataframe tbody tr th:only-of-type {\n",
       "        vertical-align: middle;\n",
       "    }\n",
       "\n",
       "    .dataframe tbody tr th {\n",
       "        vertical-align: top;\n",
       "    }\n",
       "\n",
       "    .dataframe thead th {\n",
       "        text-align: right;\n",
       "    }\n",
       "</style>\n",
       "<table border=\"1\" class=\"dataframe\">\n",
       "  <thead>\n",
       "    <tr style=\"text-align: right;\">\n",
       "      <th></th>\n",
       "      <th>date</th>\n",
       "      <th>browser</th>\n",
       "      <th>user_type</th>\n",
       "      <th>visits</th>\n",
       "    </tr>\n",
       "  </thead>\n",
       "  <tbody>\n",
       "    <tr>\n",
       "      <th>0</th>\n",
       "      <td>2020-06-15</td>\n",
       "      <td>Google Chrome</td>\n",
       "      <td>People</td>\n",
       "      <td>250.0</td>\n",
       "    </tr>\n",
       "    <tr>\n",
       "      <th>1</th>\n",
       "      <td>2020-06-15</td>\n",
       "      <td>Google Chrome</td>\n",
       "      <td>Robots</td>\n",
       "      <td>104.0</td>\n",
       "    </tr>\n",
       "    <tr>\n",
       "      <th>2</th>\n",
       "      <td>2020-06-15</td>\n",
       "      <td>Yandex Browser</td>\n",
       "      <td>People</td>\n",
       "      <td>47.0</td>\n",
       "    </tr>\n",
       "  </tbody>\n",
       "</table>\n",
       "</div>"
      ],
      "text/plain": [
       "         date         browser user_type  visits\n",
       "0  2020-06-15   Google Chrome    People   250.0\n",
       "1  2020-06-15   Google Chrome    Robots   104.0\n",
       "2  2020-06-15  Yandex Browser    People    47.0"
      ]
     },
     "execution_count": 30,
     "metadata": {},
     "output_type": "execute_result"
    }
   ],
   "source": [
    "my_df.head(3)"
   ]
  },
  {
   "cell_type": "code",
   "execution_count": 31,
   "id": "839e1807",
   "metadata": {},
   "outputs": [],
   "source": [
    "# Объединим\n",
    "full_data = my_df.merge(other_df, on=['date','browser','user_type'])"
   ]
  },
  {
   "cell_type": "code",
   "execution_count": 32,
   "id": "722cbed9",
   "metadata": {},
   "outputs": [
    {
     "data": {
      "text/html": [
       "<div>\n",
       "<style scoped>\n",
       "    .dataframe tbody tr th:only-of-type {\n",
       "        vertical-align: middle;\n",
       "    }\n",
       "\n",
       "    .dataframe tbody tr th {\n",
       "        vertical-align: top;\n",
       "    }\n",
       "\n",
       "    .dataframe thead th {\n",
       "        text-align: right;\n",
       "    }\n",
       "</style>\n",
       "<table border=\"1\" class=\"dataframe\">\n",
       "  <thead>\n",
       "    <tr style=\"text-align: right;\">\n",
       "      <th></th>\n",
       "      <th>date</th>\n",
       "      <th>browser</th>\n",
       "      <th>user_type</th>\n",
       "      <th>visits</th>\n",
       "      <th>users</th>\n",
       "    </tr>\n",
       "  </thead>\n",
       "  <tbody>\n",
       "    <tr>\n",
       "      <th>0</th>\n",
       "      <td>2020-06-15</td>\n",
       "      <td>Google Chrome</td>\n",
       "      <td>People</td>\n",
       "      <td>250.0</td>\n",
       "      <td>240.0</td>\n",
       "    </tr>\n",
       "    <tr>\n",
       "      <th>1</th>\n",
       "      <td>2020-06-15</td>\n",
       "      <td>Google Chrome</td>\n",
       "      <td>Robots</td>\n",
       "      <td>104.0</td>\n",
       "      <td>104.0</td>\n",
       "    </tr>\n",
       "    <tr>\n",
       "      <th>2</th>\n",
       "      <td>2020-06-15</td>\n",
       "      <td>Yandex Browser</td>\n",
       "      <td>People</td>\n",
       "      <td>47.0</td>\n",
       "      <td>44.0</td>\n",
       "    </tr>\n",
       "    <tr>\n",
       "      <th>3</th>\n",
       "      <td>2020-06-15</td>\n",
       "      <td>Firefox</td>\n",
       "      <td>Robots</td>\n",
       "      <td>31.0</td>\n",
       "      <td>29.0</td>\n",
       "    </tr>\n",
       "    <tr>\n",
       "      <th>4</th>\n",
       "      <td>2020-06-15</td>\n",
       "      <td>Chrome Mobile</td>\n",
       "      <td>People</td>\n",
       "      <td>31.0</td>\n",
       "      <td>30.0</td>\n",
       "    </tr>\n",
       "  </tbody>\n",
       "</table>\n",
       "</div>"
      ],
      "text/plain": [
       "         date         browser user_type  visits  users\n",
       "0  2020-06-15   Google Chrome    People   250.0  240.0\n",
       "1  2020-06-15   Google Chrome    Robots   104.0  104.0\n",
       "2  2020-06-15  Yandex Browser    People    47.0   44.0\n",
       "3  2020-06-15         Firefox    Robots    31.0   29.0\n",
       "4  2020-06-15   Chrome Mobile    People    31.0   30.0"
      ]
     },
     "execution_count": 32,
     "metadata": {},
     "output_type": "execute_result"
    }
   ],
   "source": [
    "full_data.head()"
   ]
  },
  {
   "cell_type": "code",
   "execution_count": 33,
   "id": "5b693627",
   "metadata": {},
   "outputs": [],
   "source": [
    "# Сделаем столбец отношения visits к users\n",
    "full_data['ratio'] = full_data.visits / full_data.users"
   ]
  },
  {
   "cell_type": "code",
   "execution_count": 34,
   "id": "2ea0bf71",
   "metadata": {},
   "outputs": [
    {
     "data": {
      "text/html": [
       "<div>\n",
       "<style scoped>\n",
       "    .dataframe tbody tr th:only-of-type {\n",
       "        vertical-align: middle;\n",
       "    }\n",
       "\n",
       "    .dataframe tbody tr th {\n",
       "        vertical-align: top;\n",
       "    }\n",
       "\n",
       "    .dataframe thead th {\n",
       "        text-align: right;\n",
       "    }\n",
       "</style>\n",
       "<table border=\"1\" class=\"dataframe\">\n",
       "  <thead>\n",
       "    <tr style=\"text-align: right;\">\n",
       "      <th></th>\n",
       "      <th>date</th>\n",
       "      <th>browser</th>\n",
       "      <th>user_type</th>\n",
       "      <th>visits</th>\n",
       "      <th>users</th>\n",
       "      <th>ratio</th>\n",
       "    </tr>\n",
       "  </thead>\n",
       "  <tbody>\n",
       "    <tr>\n",
       "      <th>0</th>\n",
       "      <td>2020-06-15</td>\n",
       "      <td>Google Chrome</td>\n",
       "      <td>People</td>\n",
       "      <td>250.0</td>\n",
       "      <td>240.0</td>\n",
       "      <td>1.041667</td>\n",
       "    </tr>\n",
       "    <tr>\n",
       "      <th>1</th>\n",
       "      <td>2020-06-15</td>\n",
       "      <td>Google Chrome</td>\n",
       "      <td>Robots</td>\n",
       "      <td>104.0</td>\n",
       "      <td>104.0</td>\n",
       "      <td>1.000000</td>\n",
       "    </tr>\n",
       "    <tr>\n",
       "      <th>2</th>\n",
       "      <td>2020-06-15</td>\n",
       "      <td>Yandex Browser</td>\n",
       "      <td>People</td>\n",
       "      <td>47.0</td>\n",
       "      <td>44.0</td>\n",
       "      <td>1.068182</td>\n",
       "    </tr>\n",
       "    <tr>\n",
       "      <th>3</th>\n",
       "      <td>2020-06-15</td>\n",
       "      <td>Firefox</td>\n",
       "      <td>Robots</td>\n",
       "      <td>31.0</td>\n",
       "      <td>29.0</td>\n",
       "      <td>1.068966</td>\n",
       "    </tr>\n",
       "    <tr>\n",
       "      <th>4</th>\n",
       "      <td>2020-06-15</td>\n",
       "      <td>Chrome Mobile</td>\n",
       "      <td>People</td>\n",
       "      <td>31.0</td>\n",
       "      <td>30.0</td>\n",
       "      <td>1.033333</td>\n",
       "    </tr>\n",
       "  </tbody>\n",
       "</table>\n",
       "</div>"
      ],
      "text/plain": [
       "         date         browser user_type  visits  users     ratio\n",
       "0  2020-06-15   Google Chrome    People   250.0  240.0  1.041667\n",
       "1  2020-06-15   Google Chrome    Robots   104.0  104.0  1.000000\n",
       "2  2020-06-15  Yandex Browser    People    47.0   44.0  1.068182\n",
       "3  2020-06-15         Firefox    Robots    31.0   29.0  1.068966\n",
       "4  2020-06-15   Chrome Mobile    People    31.0   30.0  1.033333"
      ]
     },
     "execution_count": 34,
     "metadata": {},
     "output_type": "execute_result"
    }
   ],
   "source": [
    "full_data.head()"
   ]
  },
  {
   "cell_type": "code",
   "execution_count": 35,
   "id": "7d0456b1",
   "metadata": {},
   "outputs": [
    {
     "data": {
      "text/plain": [
       "104.0"
      ]
     },
     "execution_count": 35,
     "metadata": {},
     "output_type": "execute_result"
    }
   ],
   "source": [
    "# Ответ, столько визитов на уникального пользователя совершается ботами с браузера Google Chrome\n",
    "full_data \\\n",
    "    .query('browser==\"Google Chrome\" and user_type==\"Robots\"') \\\n",
    "    .visits \\\n",
    "    .iloc[0] \\\n",
    "    .round()"
   ]
  }
 ],
 "metadata": {
  "kernelspec": {
   "display_name": "Python 3",
   "language": "python",
   "name": "python3"
  },
  "language_info": {
   "codemirror_mode": {
    "name": "ipython",
    "version": 3
   },
   "file_extension": ".py",
   "mimetype": "text/x-python",
   "name": "python",
   "nbconvert_exporter": "python",
   "pygments_lexer": "ipython3",
   "version": "3.8.5"
  }
 },
 "nbformat": 4,
 "nbformat_minor": 5
}
